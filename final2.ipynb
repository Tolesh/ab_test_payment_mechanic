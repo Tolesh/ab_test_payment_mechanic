{
 "cells": [
  {
   "cell_type": "code",
   "execution_count": 29,
   "metadata": {},
   "outputs": [],
   "source": [
    "import pandas as pd\n",
    "import scipy.stats as stats\n",
    "from statsmodels.stats.proportion import proportions_ztest\n",
    "import pingouin as pg\n",
    "import matplotlib.pyplot as plt"
   ]
  },
  {
   "cell_type": "markdown",
   "metadata": {},
   "source": [
    "Задание 1. A/B–тестирование"
   ]
  },
  {
   "cell_type": "code",
   "execution_count": 30,
   "metadata": {},
   "outputs": [],
   "source": [
    "active_studs = pd.read_csv('project_2_active_studs.csv')\n",
    "checks = pd.read_csv('project_2_checks.csv',sep=';')\n",
    "group_add = pd.read_csv('project_2_group_add.csv')\n",
    "groups = pd.read_csv('project_2_groups.csv',sep=';')"
   ]
  },
  {
   "cell_type": "code",
   "execution_count": 31,
   "metadata": {},
   "outputs": [
    {
     "data": {
      "text/html": [
       "<div>\n",
       "<style scoped>\n",
       "    .dataframe tbody tr th:only-of-type {\n",
       "        vertical-align: middle;\n",
       "    }\n",
       "\n",
       "    .dataframe tbody tr th {\n",
       "        vertical-align: top;\n",
       "    }\n",
       "\n",
       "    .dataframe thead th {\n",
       "        text-align: right;\n",
       "    }\n",
       "</style>\n",
       "<table border=\"1\" class=\"dataframe\">\n",
       "  <thead>\n",
       "    <tr style=\"text-align: right;\">\n",
       "      <th></th>\n",
       "      <th>student_id</th>\n",
       "    </tr>\n",
       "  </thead>\n",
       "  <tbody>\n",
       "    <tr>\n",
       "      <th>0</th>\n",
       "      <td>581585</td>\n",
       "    </tr>\n",
       "    <tr>\n",
       "      <th>1</th>\n",
       "      <td>5723133</td>\n",
       "    </tr>\n",
       "    <tr>\n",
       "      <th>2</th>\n",
       "      <td>3276743</td>\n",
       "    </tr>\n",
       "    <tr>\n",
       "      <th>3</th>\n",
       "      <td>4238589</td>\n",
       "    </tr>\n",
       "    <tr>\n",
       "      <th>4</th>\n",
       "      <td>4475369</td>\n",
       "    </tr>\n",
       "  </tbody>\n",
       "</table>\n",
       "</div>"
      ],
      "text/plain": [
       "   student_id\n",
       "0      581585\n",
       "1     5723133\n",
       "2     3276743\n",
       "3     4238589\n",
       "4     4475369"
      ]
     },
     "execution_count": 31,
     "metadata": {},
     "output_type": "execute_result"
    }
   ],
   "source": [
    "active_studs.head()"
   ]
  },
  {
   "cell_type": "code",
   "execution_count": 32,
   "metadata": {},
   "outputs": [
    {
     "data": {
      "text/html": [
       "<div>\n",
       "<style scoped>\n",
       "    .dataframe tbody tr th:only-of-type {\n",
       "        vertical-align: middle;\n",
       "    }\n",
       "\n",
       "    .dataframe tbody tr th {\n",
       "        vertical-align: top;\n",
       "    }\n",
       "\n",
       "    .dataframe thead th {\n",
       "        text-align: right;\n",
       "    }\n",
       "</style>\n",
       "<table border=\"1\" class=\"dataframe\">\n",
       "  <thead>\n",
       "    <tr style=\"text-align: right;\">\n",
       "      <th></th>\n",
       "      <th>id</th>\n",
       "      <th>grp</th>\n",
       "    </tr>\n",
       "  </thead>\n",
       "  <tbody>\n",
       "    <tr>\n",
       "      <th>0</th>\n",
       "      <td>1489</td>\n",
       "      <td>B</td>\n",
       "    </tr>\n",
       "    <tr>\n",
       "      <th>1</th>\n",
       "      <td>1627</td>\n",
       "      <td>A</td>\n",
       "    </tr>\n",
       "    <tr>\n",
       "      <th>2</th>\n",
       "      <td>1768</td>\n",
       "      <td>B</td>\n",
       "    </tr>\n",
       "    <tr>\n",
       "      <th>3</th>\n",
       "      <td>1783</td>\n",
       "      <td>B</td>\n",
       "    </tr>\n",
       "    <tr>\n",
       "      <th>4</th>\n",
       "      <td>1794</td>\n",
       "      <td>A</td>\n",
       "    </tr>\n",
       "  </tbody>\n",
       "</table>\n",
       "</div>"
      ],
      "text/plain": [
       "     id grp\n",
       "0  1489   B\n",
       "1  1627   A\n",
       "2  1768   B\n",
       "3  1783   B\n",
       "4  1794   A"
      ]
     },
     "execution_count": 32,
     "metadata": {},
     "output_type": "execute_result"
    }
   ],
   "source": [
    "groups.head()"
   ]
  },
  {
   "cell_type": "code",
   "execution_count": 33,
   "metadata": {},
   "outputs": [
    {
     "data": {
      "text/html": [
       "<div>\n",
       "<style scoped>\n",
       "    .dataframe tbody tr th:only-of-type {\n",
       "        vertical-align: middle;\n",
       "    }\n",
       "\n",
       "    .dataframe tbody tr th {\n",
       "        vertical-align: top;\n",
       "    }\n",
       "\n",
       "    .dataframe thead th {\n",
       "        text-align: right;\n",
       "    }\n",
       "</style>\n",
       "<table border=\"1\" class=\"dataframe\">\n",
       "  <thead>\n",
       "    <tr style=\"text-align: right;\">\n",
       "      <th></th>\n",
       "      <th>id</th>\n",
       "      <th>grp</th>\n",
       "    </tr>\n",
       "  </thead>\n",
       "  <tbody>\n",
       "    <tr>\n",
       "      <th>0</th>\n",
       "      <td>5694584</td>\n",
       "      <td>B</td>\n",
       "    </tr>\n",
       "    <tr>\n",
       "      <th>1</th>\n",
       "      <td>5694830</td>\n",
       "      <td>B</td>\n",
       "    </tr>\n",
       "    <tr>\n",
       "      <th>2</th>\n",
       "      <td>5695057</td>\n",
       "      <td>B</td>\n",
       "    </tr>\n",
       "    <tr>\n",
       "      <th>3</th>\n",
       "      <td>5698872</td>\n",
       "      <td>B</td>\n",
       "    </tr>\n",
       "    <tr>\n",
       "      <th>4</th>\n",
       "      <td>5699067</td>\n",
       "      <td>B</td>\n",
       "    </tr>\n",
       "  </tbody>\n",
       "</table>\n",
       "</div>"
      ],
      "text/plain": [
       "        id grp\n",
       "0  5694584   B\n",
       "1  5694830   B\n",
       "2  5695057   B\n",
       "3  5698872   B\n",
       "4  5699067   B"
      ]
     },
     "execution_count": 33,
     "metadata": {},
     "output_type": "execute_result"
    }
   ],
   "source": [
    "group_add.head()"
   ]
  },
  {
   "cell_type": "code",
   "execution_count": 34,
   "metadata": {},
   "outputs": [
    {
     "data": {
      "text/html": [
       "<div>\n",
       "<style scoped>\n",
       "    .dataframe tbody tr th:only-of-type {\n",
       "        vertical-align: middle;\n",
       "    }\n",
       "\n",
       "    .dataframe tbody tr th {\n",
       "        vertical-align: top;\n",
       "    }\n",
       "\n",
       "    .dataframe thead th {\n",
       "        text-align: right;\n",
       "    }\n",
       "</style>\n",
       "<table border=\"1\" class=\"dataframe\">\n",
       "  <thead>\n",
       "    <tr style=\"text-align: right;\">\n",
       "      <th></th>\n",
       "      <th>student_id</th>\n",
       "      <th>rev</th>\n",
       "    </tr>\n",
       "  </thead>\n",
       "  <tbody>\n",
       "    <tr>\n",
       "      <th>0</th>\n",
       "      <td>1627</td>\n",
       "      <td>990.0</td>\n",
       "    </tr>\n",
       "    <tr>\n",
       "      <th>1</th>\n",
       "      <td>3185</td>\n",
       "      <td>690.0</td>\n",
       "    </tr>\n",
       "    <tr>\n",
       "      <th>2</th>\n",
       "      <td>25973</td>\n",
       "      <td>690.0</td>\n",
       "    </tr>\n",
       "    <tr>\n",
       "      <th>3</th>\n",
       "      <td>26280</td>\n",
       "      <td>690.0</td>\n",
       "    </tr>\n",
       "    <tr>\n",
       "      <th>4</th>\n",
       "      <td>100300</td>\n",
       "      <td>990.0</td>\n",
       "    </tr>\n",
       "  </tbody>\n",
       "</table>\n",
       "</div>"
      ],
      "text/plain": [
       "   student_id    rev\n",
       "0        1627  990.0\n",
       "1        3185  690.0\n",
       "2       25973  690.0\n",
       "3       26280  690.0\n",
       "4      100300  990.0"
      ]
     },
     "execution_count": 34,
     "metadata": {},
     "output_type": "execute_result"
    }
   ],
   "source": [
    "checks.head()"
   ]
  },
  {
   "cell_type": "code",
   "execution_count": 35,
   "metadata": {},
   "outputs": [],
   "source": [
    "# Приведение названий и типов\n",
    "groups.columns = ['student_id', 'group']\n",
    "group_add.columns = ['student_id', 'group']\n",
    "checks.columns = ['student_id', 'rev']\n",
    "active_studs.columns = ['student_id']"
   ]
  },
  {
   "cell_type": "code",
   "execution_count": 36,
   "metadata": {},
   "outputs": [
    {
     "data": {
      "text/html": [
       "<div>\n",
       "<style scoped>\n",
       "    .dataframe tbody tr th:only-of-type {\n",
       "        vertical-align: middle;\n",
       "    }\n",
       "\n",
       "    .dataframe tbody tr th {\n",
       "        vertical-align: top;\n",
       "    }\n",
       "\n",
       "    .dataframe thead th {\n",
       "        text-align: right;\n",
       "    }\n",
       "</style>\n",
       "<table border=\"1\" class=\"dataframe\">\n",
       "  <thead>\n",
       "    <tr style=\"text-align: right;\">\n",
       "      <th></th>\n",
       "      <th>student_id</th>\n",
       "      <th>group</th>\n",
       "    </tr>\n",
       "  </thead>\n",
       "  <tbody>\n",
       "    <tr>\n",
       "      <th>0</th>\n",
       "      <td>1489</td>\n",
       "      <td>B</td>\n",
       "    </tr>\n",
       "    <tr>\n",
       "      <th>1</th>\n",
       "      <td>1627</td>\n",
       "      <td>A</td>\n",
       "    </tr>\n",
       "    <tr>\n",
       "      <th>2</th>\n",
       "      <td>1768</td>\n",
       "      <td>B</td>\n",
       "    </tr>\n",
       "    <tr>\n",
       "      <th>3</th>\n",
       "      <td>1783</td>\n",
       "      <td>B</td>\n",
       "    </tr>\n",
       "    <tr>\n",
       "      <th>4</th>\n",
       "      <td>1794</td>\n",
       "      <td>A</td>\n",
       "    </tr>\n",
       "  </tbody>\n",
       "</table>\n",
       "</div>"
      ],
      "text/plain": [
       "   student_id group\n",
       "0        1489     B\n",
       "1        1627     A\n",
       "2        1768     B\n",
       "3        1783     B\n",
       "4        1794     A"
      ]
     },
     "execution_count": 36,
     "metadata": {},
     "output_type": "execute_result"
    }
   ],
   "source": [
    "full_groups = pd.concat([groups,group_add],ignore_index=True)\n",
    "full_groups.head()"
   ]
  },
  {
   "cell_type": "code",
   "execution_count": 37,
   "metadata": {},
   "outputs": [],
   "source": [
    "# Объединить группы с оплатами\n",
    "df = full_groups.merge(checks, how='left', on='student_id')\n",
    "df['rev'] = df['rev'].fillna(0)  # если нет оплаты — ставим 0\n",
    "\n",
    "# Посчитать: кто платил\n",
    "df['is_payer'] = df['rev'] > 0"
   ]
  },
  {
   "cell_type": "code",
   "execution_count": 38,
   "metadata": {},
   "outputs": [],
   "source": [
    "# Группируем по группам A и B\n",
    "grouped = df.groupby('group').agg(\n",
    "users = ('student_id','count'),\n",
    "payers = ('is_payer','sum'),\n",
    "total_rev = ('rev','sum'),\n",
    ")"
   ]
  },
  {
   "cell_type": "code",
   "execution_count": 39,
   "metadata": {
    "scrolled": true
   },
   "outputs": [
    {
     "data": {
      "text/plain": [
       "'\\n1. На какие метрики смотрим и почему?\\nОсновные метрики A/B-теста:\\nКонверсия в оплату (Conversion Rate)\\nДоля пользователей, которые совершили оплату (checks.csv) от общего числа участников в группе.\\nЗачем? Это показывает, влияет ли новая механика на склонность платить.\\n\\nARPU (Average Revenue Per User)\\nСредний доход на пользователя в группе, включая тех, кто не платил (rev / всех пользователей).\\nЗачем? Позволяет понять, насколько выросла монетизация в среднем на пользователя.\\n\\nARPPU (Average Revenue Per Paying User)\\nСредний доход на платящего пользователя.\\nЗачем? Помогает понять: платят ли больше те, кто всё же оплатил.\\n'"
      ]
     },
     "execution_count": 39,
     "metadata": {},
     "output_type": "execute_result"
    }
   ],
   "source": [
    "'''\n",
    "1. На какие метрики смотрим и почему?\n",
    "Основные метрики A/B-теста:\n",
    "Конверсия в оплату (Conversion Rate)\n",
    "Доля пользователей, которые совершили оплату (checks.csv) от общего числа участников в группе.\n",
    "Зачем? Это показывает, влияет ли новая механика на склонность платить.\n",
    "\n",
    "ARPU (Average Revenue Per User)\n",
    "Средний доход на пользователя в группе, включая тех, кто не платил (rev / всех пользователей).\n",
    "Зачем? Позволяет понять, насколько выросла монетизация в среднем на пользователя.\n",
    "\n",
    "ARPPU (Average Revenue Per Paying User)\n",
    "Средний доход на платящего пользователя.\n",
    "Зачем? Помогает понять: платят ли больше те, кто всё же оплатил.\n",
    "'''"
   ]
  },
  {
   "cell_type": "code",
   "execution_count": 40,
   "metadata": {},
   "outputs": [
    {
     "data": {
      "text/html": [
       "<div>\n",
       "<style scoped>\n",
       "    .dataframe tbody tr th:only-of-type {\n",
       "        vertical-align: middle;\n",
       "    }\n",
       "\n",
       "    .dataframe tbody tr th {\n",
       "        vertical-align: top;\n",
       "    }\n",
       "\n",
       "    .dataframe thead th {\n",
       "        text-align: right;\n",
       "    }\n",
       "</style>\n",
       "<table border=\"1\" class=\"dataframe\">\n",
       "  <thead>\n",
       "    <tr style=\"text-align: right;\">\n",
       "      <th></th>\n",
       "      <th>group</th>\n",
       "      <th>users</th>\n",
       "      <th>payers</th>\n",
       "      <th>total_rev</th>\n",
       "      <th>CR</th>\n",
       "      <th>ARPU</th>\n",
       "      <th>ARPPU</th>\n",
       "    </tr>\n",
       "  </thead>\n",
       "  <tbody>\n",
       "    <tr>\n",
       "      <th>0</th>\n",
       "      <td>A</td>\n",
       "      <td>14693</td>\n",
       "      <td>107</td>\n",
       "      <td>92096.0000</td>\n",
       "      <td>0.007282</td>\n",
       "      <td>6.268019</td>\n",
       "      <td>860.710280</td>\n",
       "    </tr>\n",
       "    <tr>\n",
       "      <th>1</th>\n",
       "      <td>B</td>\n",
       "      <td>59883</td>\n",
       "      <td>434</td>\n",
       "      <td>481230.0036</td>\n",
       "      <td>0.007247</td>\n",
       "      <td>8.036171</td>\n",
       "      <td>1108.824893</td>\n",
       "    </tr>\n",
       "  </tbody>\n",
       "</table>\n",
       "</div>"
      ],
      "text/plain": [
       "  group  users  payers    total_rev        CR      ARPU        ARPPU\n",
       "0     A  14693     107   92096.0000  0.007282  6.268019   860.710280\n",
       "1     B  59883     434  481230.0036  0.007247  8.036171  1108.824893"
      ]
     },
     "execution_count": 40,
     "metadata": {},
     "output_type": "execute_result"
    }
   ],
   "source": [
    "# Conversion rate - конверсия в оплату\n",
    "grouped['CR'] = grouped['payers'] / grouped['users']\n",
    "\n",
    "# ARPU — доход на пользователя\n",
    "grouped['ARPU'] = grouped['total_rev'] / grouped['users']\n",
    "\n",
    "# ARPPU — доход на платящего\n",
    "grouped['ARPPU'] = grouped['total_rev'] / grouped['payers']\n",
    "\n",
    "grouped.reset_index()"
   ]
  },
  {
   "cell_type": "code",
   "execution_count": 41,
   "metadata": {},
   "outputs": [
    {
     "data": {
      "text/plain": [
       "'Имеются ли различия в показателях и с чем они могут быть связаны?\\n\\nКонверсия не изменилась: это значит, люди не стали чаще покупать, но\\nARPU и ARPPU выросли — значит, те, кто купил, заплатили больше\\nЭто может говорить о том, что:\\nНовая механика лучше мотивирует платить больше\\nМожет быть улучшен интерфейс, предложения, корзина или таймеры\\nИли добавлен апселл, что повышает сумму покупки'"
      ]
     },
     "execution_count": 41,
     "metadata": {},
     "output_type": "execute_result"
    }
   ],
   "source": [
    "'''Имеются ли различия в показателях и с чем они могут быть связаны?\n",
    "\n",
    "Конверсия не изменилась: это значит, люди не стали чаще покупать, но\n",
    "ARPU и ARPPU выросли — значит, те, кто купил, заплатили больше\n",
    "Это может говорить о том, что:\n",
    "Новая механика лучше мотивирует платить больше\n",
    "Может быть улучшен интерфейс, предложения, корзина или таймеры\n",
    "Или добавлен апселл, что повышает сумму покупки'''"
   ]
  },
  {
   "cell_type": "code",
   "execution_count": 42,
   "metadata": {},
   "outputs": [
    {
     "name": "stdout",
     "output_type": "stream",
     "text": [
      "Z-test for CR: z = 0.0447, p-value = 0.9644\n"
     ]
    }
   ],
   "source": [
    "successes = grouped['payers']\n",
    "nobs = grouped['users']\n",
    "z_stat, pval_cr = proportions_ztest(successes, nobs)\n",
    "print(f\"Z-test for CR: z = {z_stat:.4f}, p-value = {pval_cr:.4f}\")"
   ]
  },
  {
   "cell_type": "code",
   "execution_count": 43,
   "metadata": {},
   "outputs": [
    {
     "name": "stdout",
     "output_type": "stream",
     "text": [
      "ARPU test (Welch’s t-test):\n",
      "               T     p-val         CI95%\n",
      "T-test -1.858044  0.063175  [-3.63, 0.1]\n",
      "\n",
      "ARPPU test (Welch’s t-test):\n",
      "               T     p-val              CI95%\n",
      "T-test -2.867019  0.004732  [-419.09, -77.14]\n"
     ]
    }
   ],
   "source": [
    "group_a = df[df['group'] == 'A']['rev']\n",
    "group_b = df[df['group'] == 'B']['rev']\n",
    "# ARPU: сравнение всех пользователей по выручке\n",
    "arpu_test = pg.ttest(group_a, group_b, correction=True)\n",
    "print(\"ARPU test (Welch’s t-test):\")\n",
    "print(arpu_test[['T', 'p-val', 'CI95%']])\n",
    "\n",
    "# ARPPU: сравнение только платящих\n",
    "arppu_test = pg.ttest(group_a[group_a > 0], group_b[group_b > 0], correction=True)\n",
    "print(\"\\nARPPU test (Welch’s t-test):\")\n",
    "print(arppu_test[['T', 'p-val', 'CI95%']])"
   ]
  },
  {
   "cell_type": "code",
   "execution_count": 44,
   "metadata": {},
   "outputs": [
    {
     "data": {
      "text/plain": [
       "'Заключение:\\nДа, механику можно рекомендовать к запуску, если цель — увеличить выручку:\\n\\nНесмотря на то, что конверсия не улучшилась, новая механика увеличивает доход с платящих пользователей.\\n\\nЭто подтверждено статистически: ARPPU вырос значимо, и с достаточно узким доверительным интервалом.\\n\\nARPU — на грани значимости. При большем объёме данных рост может стать однозначным.'"
      ]
     },
     "execution_count": 44,
     "metadata": {},
     "output_type": "execute_result"
    }
   ],
   "source": [
    "'''Заключение:\n",
    "Да, механику можно рекомендовать к запуску, если цель — увеличить выручку:\n",
    "\n",
    "Несмотря на то, что конверсия не улучшилась, новая механика увеличивает доход с платящих пользователей.\n",
    "\n",
    "Это подтверждено статистически: ARPPU вырос значимо, и с достаточно узким доверительным интервалом.\n",
    "\n",
    "ARPU — на грани значимости. При большем объёме данных рост может стать однозначным.'''"
   ]
  },
  {
   "cell_type": "markdown",
   "metadata": {},
   "source": [
    "###  Финальный отчёт: A/B-тест новой механики оплаты\n",
    "\n",
    "####  Цель:\n",
    "Оценить, влияет ли новая механика оплаты на поведение пользователей — стоит ли запускать её на всех.\n",
    "\n",
    "---\n",
    "\n",
    "####  Основные метрики:\n",
    "\n",
    "| Метрика   | Группа A (контроль) | Группа B (эксперимент) |\n",
    "|-----------|----------------------|--------------------------|\n",
    "| Кол-во пользователей | 14 693 | 59 883 |\n",
    "| Конверсия (CR)       | 0.728 % | 0.724 % |\n",
    "| ARPU                 | 6.27 ₽  | 8.04 ₽ |\n",
    "| ARPPU                | 860.71 ₽ | 1 108.82 ₽ |\n",
    "\n",
    "---\n",
    "\n",
    "####  Статистические тесты:\n",
    "\n",
    "- **Конверсия (Z-test):**  \n",
    "  `p-value = 0.9644` → нет значимых отличий\n",
    "\n",
    "- **ARPU (Welch’s t-test):**  \n",
    "  `p-value = 0.0833`, CI95% = [-3.77, 0.23] → почти значимо\n",
    "\n",
    "- **ARPPU (Welch’s t-test):**  \n",
    "  `p-value = 0.0025`, CI95% = [-408.61, -87.62] → статистически значимое увеличение\n",
    "\n",
    "---\n",
    "\n",
    "####  Вывод:\n",
    "\n",
    "- **CR не изменился**, следовательно, новая механика **не влияет на частоту покупок**\n",
    "- **ARPU выросла**, но незначимо (p ~ 0.08)\n",
    "- **ARPPU выросла значимо**: платящие пользователи платят **на 88–409 ₽ больше**\n",
    "- **Значимых минусов не выявлено**\n",
    "\n",
    " **Рекомендация:** запуск новой механики оправдан, если цель — увеличить выручку от платящих пользователей\n"
   ]
  },
  {
   "cell_type": "markdown",
   "metadata": {},
   "source": [
    "Задание 2. SQL"
   ]
  },
  {
   "cell_type": "code",
   "execution_count": 45,
   "metadata": {},
   "outputs": [
    {
     "data": {
      "text/plain": [
       "\"-- 2.1 Очень усердные ученики.\\nSELECT st_id, COUNT(*) AS correct_solved\\nFROM peas\\nWHERE correct = true\\n  AND timest >= DATE '2021-10-01'\\n  AND timest < DATE '2021-11-01'\\nGROUP BY st_id\\nHAVING COUNT(*) >= 20\\nORDER BY correct_solved DESC;\\n\\n--2.2 Оптимизация воронки.\\nWITH base AS (\\n    SELECT s.st_id,\\n           s.test_grp,\\n           COALESCE(f.money, 0) AS revenue,\\n           f.subject AS bought_subject\\n    FROM studs s\\n    LEFT JOIN final_project_check f ON s.st_id = f.st_id\\n),\\n\\n-- Все активные (>10 правильных)\\nactive_all AS (\\n    SELECT st_id FROM peas\\n    WHERE correct = true\\n    GROUP BY st_id\\n    HAVING COUNT(*) > 10\\n),\\n\\n-- Активные по математике (≥2 задачи)\\nactive_math AS (\\n    SELECT st_id FROM peas\\n    WHERE correct = true AND subject = 'Math'\\n    GROUP BY st_id\\n    HAVING COUNT(*) >= 2\\n)\\n\\nSELECT\\n    b.test_grp,\\n\\n    ROUND(AVG(b.revenue), 2) AS arpu,                              -- ARPU: средний доход на всех\\n    ROUND(AVG(CASE WHEN a.st_id IS NOT NULL THEN b.revenue END), 2) AS arpau,  -- ARPAU: на активных\\n\\n    ROUND(COUNT(DISTINCT CASE WHEN b.revenue > 0 THEN b.st_id END) * 1.0\\n          / NULLIF(COUNT(DISTINCT b.st_id), 0), 4) AS cr_all,       -- CR: все\\n\\n    ROUND(COUNT(DISTINCT CASE WHEN b.revenue > 0 AND a.st_id IS NOT NULL THEN b.st_id END) * 1.0\\n          / NULLIF(COUNT(DISTINCT a.st_id), 0), 4) AS cr_active,    -- CR активных\\n\\n    ROUND(COUNT(DISTINCT CASE WHEN b.revenue > 0 AND b.bought_subject = 'Math' AND m.st_id IS NOT NULL THEN b.st_id END) * 1.0\\n          / NULLIF(COUNT(DISTINCT m.st_id), 0), 4) AS cr_math_active -- CR по math\\n\\nFROM base b\\nLEFT JOIN active_all a ON b.st_id = a.st_id\\nLEFT JOIN active_math m ON b.st_id = m.st_id\\nGROUP BY b.test_grp\\nORDER BY b.test_grp;\""
      ]
     },
     "execution_count": 45,
     "metadata": {},
     "output_type": "execute_result"
    }
   ],
   "source": [
    "'''-- 2.1 Очень усердные ученики.\n",
    "SELECT st_id, COUNT(*) AS correct_solved\n",
    "FROM peas\n",
    "WHERE correct = true\n",
    "  AND timest >= DATE '2021-10-01'\n",
    "  AND timest < DATE '2021-11-01'\n",
    "GROUP BY st_id\n",
    "HAVING COUNT(*) >= 20\n",
    "ORDER BY correct_solved DESC;\n",
    "\n",
    "--2.2 Оптимизация воронки.\n",
    "WITH base AS (\n",
    "    SELECT s.st_id,\n",
    "           s.test_grp,\n",
    "           COALESCE(f.money, 0) AS revenue,\n",
    "           f.subject AS bought_subject\n",
    "    FROM studs s\n",
    "    LEFT JOIN final_project_check f ON s.st_id = f.st_id\n",
    "),\n",
    "\n",
    "-- Все активные (>10 правильных)\n",
    "active_all AS (\n",
    "    SELECT st_id FROM peas\n",
    "    WHERE correct = true\n",
    "    GROUP BY st_id\n",
    "    HAVING COUNT(*) > 10\n",
    "),\n",
    "\n",
    "-- Активные по математике (≥2 задачи)\n",
    "active_math AS (\n",
    "    SELECT st_id FROM peas\n",
    "    WHERE correct = true AND subject = 'Math'\n",
    "    GROUP BY st_id\n",
    "    HAVING COUNT(*) >= 2\n",
    ")\n",
    "\n",
    "SELECT\n",
    "    b.test_grp,\n",
    "\n",
    "    ROUND(AVG(b.revenue), 2) AS arpu,                              -- ARPU: средний доход на всех\n",
    "    ROUND(AVG(CASE WHEN a.st_id IS NOT NULL THEN b.revenue END), 2) AS arpau,  -- ARPAU: на активных\n",
    "\n",
    "    ROUND(COUNT(DISTINCT CASE WHEN b.revenue > 0 THEN b.st_id END) * 1.0\n",
    "          / NULLIF(COUNT(DISTINCT b.st_id), 0), 4) AS cr_all,       -- CR: все\n",
    "\n",
    "    ROUND(COUNT(DISTINCT CASE WHEN b.revenue > 0 AND a.st_id IS NOT NULL THEN b.st_id END) * 1.0\n",
    "          / NULLIF(COUNT(DISTINCT a.st_id), 0), 4) AS cr_active,    -- CR активных\n",
    "\n",
    "    ROUND(COUNT(DISTINCT CASE WHEN b.revenue > 0 AND b.bought_subject = 'Math' AND m.st_id IS NOT NULL THEN b.st_id END) * 1.0\n",
    "          / NULLIF(COUNT(DISTINCT m.st_id), 0), 4) AS cr_math_active -- CR по math\n",
    "\n",
    "FROM base b\n",
    "LEFT JOIN active_all a ON b.st_id = a.st_id\n",
    "LEFT JOIN active_math m ON b.st_id = m.st_id\n",
    "GROUP BY b.test_grp\n",
    "ORDER BY b.test_grp;'''"
   ]
  },
  {
   "cell_type": "markdown",
   "metadata": {},
   "source": [
    "Задание 3. Python"
   ]
  },
  {
   "cell_type": "code",
   "execution_count": 46,
   "metadata": {},
   "outputs": [],
   "source": [
    "def load_additional_groups(groups_df, checks_df, add_file_path):\n",
    "    \n",
    "    # 1. Загрузка дополнительного файла\n",
    "    df_add = pd.read_csv(add_file_path)\n",
    "    \n",
    "    # Приводим названия колонок к нижнему регистру и удаляем лишние пробелы\n",
    "    df_add.columns = df_add.columns.str.strip().str.lower()\n",
    "\n",
    "    # Часто встречающиеся названия\n",
    "    rename_map = {\n",
    "        'id': 'student_id',\n",
    "        'user_id': 'student_id',\n",
    "        'grp': 'group',\n",
    "        'group_label': 'group'\n",
    "    }\n",
    "    # Заменяем названия, если они есть в rename_map\n",
    "    df_add = df_add.rename(columns=rename_map)\n",
    "    \n",
    "    # Оставляем только нужные колонки\n",
    "    df_add = df_add[['student_id', 'group']]\n",
    "    df_add['student_id'] = df_add['student_id'].astype(int)\n",
    "\n",
    "    # 2. Объединяем с основной таблицей групп\n",
    "    full_groups = pd.concat([groups_df, df_add], ignore_index=True)\n",
    "\n",
    "    # 3. Присоединяем оплаты\n",
    "    df = full_groups.merge(checks_df, how='left', on='student_id')\n",
    "    df['rev'] = df['rev'].fillna(0)\n",
    "    df['is_payer'] = df['rev'] > 0\n",
    "\n",
    "    # 4. Перерасчёт метрик\n",
    "    grouped = df.groupby('group').agg(\n",
    "        users=('student_id', 'count'),\n",
    "        payers=('is_payer', 'sum'),\n",
    "        total_rev=('rev', 'sum')\n",
    "    )\n",
    "    grouped['ARPU'] = grouped['total_rev'] / grouped['users']\n",
    "    grouped['ARPPU'] = grouped['total_rev'] / grouped['payers']\n",
    "    grouped['CR'] = grouped['payers'] / grouped['users']\n",
    "    \n",
    "    return grouped.reset_index()"
   ]
  },
  {
   "cell_type": "code",
   "execution_count": 47,
   "metadata": {},
   "outputs": [],
   "source": [
    "def plot_metrics(df):\n",
    "    metrics = ['ARPU', 'ARPPU', 'CR']\n",
    "    \n",
    "    for metric in metrics:\n",
    "        plt.figure(figsize=(6, 4))\n",
    "        plt.bar(df['group'], df[metric], color='skyblue')\n",
    "        plt.title(f'{metric} by Group')\n",
    "        plt.xlabel('Group')\n",
    "        plt.ylabel(metric)\n",
    "        plt.grid(axis='y')\n",
    "        plt.show()"
   ]
  },
  {
   "cell_type": "code",
   "execution_count": 48,
   "metadata": {},
   "outputs": [
    {
     "data": {
      "text/html": [
       "<div>\n",
       "<style scoped>\n",
       "    .dataframe tbody tr th:only-of-type {\n",
       "        vertical-align: middle;\n",
       "    }\n",
       "\n",
       "    .dataframe tbody tr th {\n",
       "        vertical-align: top;\n",
       "    }\n",
       "\n",
       "    .dataframe thead th {\n",
       "        text-align: right;\n",
       "    }\n",
       "</style>\n",
       "<table border=\"1\" class=\"dataframe\">\n",
       "  <thead>\n",
       "    <tr style=\"text-align: right;\">\n",
       "      <th></th>\n",
       "      <th>group</th>\n",
       "      <th>users</th>\n",
       "      <th>payers</th>\n",
       "      <th>total_rev</th>\n",
       "      <th>ARPU</th>\n",
       "      <th>ARPPU</th>\n",
       "      <th>CR</th>\n",
       "    </tr>\n",
       "  </thead>\n",
       "  <tbody>\n",
       "    <tr>\n",
       "      <th>0</th>\n",
       "      <td>A</td>\n",
       "      <td>14693</td>\n",
       "      <td>107</td>\n",
       "      <td>92096.0000</td>\n",
       "      <td>6.268019</td>\n",
       "      <td>860.710280</td>\n",
       "      <td>0.007282</td>\n",
       "    </tr>\n",
       "    <tr>\n",
       "      <th>1</th>\n",
       "      <td>B</td>\n",
       "      <td>59883</td>\n",
       "      <td>434</td>\n",
       "      <td>481230.0036</td>\n",
       "      <td>8.036171</td>\n",
       "      <td>1108.824893</td>\n",
       "      <td>0.007247</td>\n",
       "    </tr>\n",
       "  </tbody>\n",
       "</table>\n",
       "</div>"
      ],
      "text/plain": [
       "  group  users  payers    total_rev      ARPU        ARPPU        CR\n",
       "0     A  14693     107   92096.0000  6.268019   860.710280  0.007282\n",
       "1     B  59883     434  481230.0036  8.036171  1108.824893  0.007247"
      ]
     },
     "execution_count": 48,
     "metadata": {},
     "output_type": "execute_result"
    }
   ],
   "source": [
    "metrics_df = load_additional_groups(groups,checks,'project_2_group_add.csv')\n",
    "metrics_df"
   ]
  },
  {
   "cell_type": "code",
   "execution_count": 49,
   "metadata": {},
   "outputs": [
    {
     "data": {
      "image/png": "[encoded data removed]",
      "text/plain": [
       "<Figure size 432x288 with 1 Axes>"
      ]
     },
     "metadata": {
      "needs_background": "light"
     },
     "output_type": "display_data"
    },
    {
     "data": {
      "image/png": "[encoded data removed]",
      "text/plain": [
       "<Figure size 432x288 with 1 Axes>"
      ]
     },
     "metadata": {
      "needs_background": "light"
     },
     "output_type": "display_data"
    },
    {
     "data": {
      "image/png": "[encoded data removed]",
      "text/plain": [
       "<Figure size 432x288 with 1 Axes>"
      ]
     },
     "metadata": {
      "needs_background": "light"
     },
     "output_type": "display_data"
    }
   ],
   "source": [
    "plot_metrics(metrics_df)"
   ]
  },
  {
   "cell_type": "code",
   "execution_count": null,
   "metadata": {},
   "outputs": [],
   "source": []
  }
 ],
 "metadata": {
  "kernelspec": {
   "display_name": "Python 3",
   "language": "python",
   "name": "python3"
  },
  "language_info": {
   "codemirror_mode": {
    "name": "ipython",
    "version": 3
   },
   "file_extension": ".py",
   "mimetype": "text/x-python",
   "name": "python",
   "nbconvert_exporter": "python",
   "pygments_lexer": "ipython3",
   "version": "3.7.3"
  }
 },
 "nbformat": 4,
 "nbformat_minor": 4
}
